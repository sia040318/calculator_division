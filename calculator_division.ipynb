{
 "cells": [
  {
   "cell_type": "markdown",
   "id": "daa7e64b",
   "metadata": {},
   "source": [
    "### 두 개의 자연수를 입력 받아서 나눗셈을 하는 Python code"
   ]
  },
  {
   "cell_type": "markdown",
   "id": "01af36db",
   "metadata": {},
   "source": [
    "####  두 개의 자연수를 입력 받음"
   ]
  },
  {
   "cell_type": "code",
   "execution_count": null,
   "id": "5f9e9a2c",
   "metadata": {},
   "outputs": [],
   "source": [
    "try:\n",
    "    a = int(input(\"첫 번째 자연수를 입력하세요: \"))\n",
    "    b = int(input(\"두 번째 자연수를 입력하세요: \"))"
   ]
  },
  {
   "cell_type": "markdown",
   "id": "5488eabd",
   "metadata": {},
   "source": [
    "#### 두 번째 수가 0인 경우를 처리"
   ]
  },
  {
   "cell_type": "code",
   "execution_count": null,
   "id": "09354289",
   "metadata": {},
   "outputs": [],
   "source": [
    "    if b == 0:\n",
    "        raise ValueError(\"0으로 나눌 수 없습니다.\")"
   ]
  },
  {
   "cell_type": "markdown",
   "id": "b2c3cd09",
   "metadata": {},
   "source": [
    "#### 나눗셈 연산 수행"
   ]
  },
  {
   "cell_type": "code",
   "execution_count": null,
   "id": "5636e9f1",
   "metadata": {},
   "outputs": [],
   "source": [
    "    result = a / b"
   ]
  },
  {
   "cell_type": "markdown",
   "id": "3ffcdf2e",
   "metadata": {},
   "source": [
    "#### 입력이 올바르지 않은 경우 에러 메시지 출력"
   ]
  },
  {
   "cell_type": "code",
   "execution_count": null,
   "id": "ca837cc8",
   "metadata": {},
   "outputs": [],
   "source": [
    "except ValueError as ve:\n",
    "    print(\"입력 오류:\", ve)"
   ]
  },
  {
   "cell_type": "markdown",
   "id": "97784244",
   "metadata": {},
   "source": [
    "#### 나누는 수가 0인 경우 에러 메시지 출력"
   ]
  },
  {
   "cell_type": "code",
   "execution_count": null,
   "id": "120fca85",
   "metadata": {},
   "outputs": [],
   "source": [
    "except ZeroDivisionError:\n",
    "    print(\"0으로 나눌 수 없습니다.\")"
   ]
  },
  {
   "cell_type": "markdown",
   "id": "22da2d4f",
   "metadata": {},
   "source": [
    "#### 정상적인 결과 출력"
   ]
  },
  {
   "cell_type": "code",
   "execution_count": null,
   "id": "6df9ddb8",
   "metadata": {},
   "outputs": [],
   "source": [
    "else:\n",
    "    print(f\"{a}을(를) {b}로 나눈 결과는 {result}입니다.\")"
   ]
  },
  {
   "cell_type": "markdown",
   "id": "313060b5",
   "metadata": {},
   "source": [
    "#### 계산이 완료되었음을 안내하는 메시지 출력"
   ]
  },
  {
   "cell_type": "code",
   "execution_count": null,
   "id": "67d21743",
   "metadata": {},
   "outputs": [],
   "source": [
    "finally:\n",
    "    print(\"계산이 완료되었습니다.\")"
   ]
  }
 ],
 "metadata": {
  "kernelspec": {
   "display_name": "Python 3 (ipykernel)",
   "language": "python",
   "name": "python3"
  },
  "language_info": {
   "codemirror_mode": {
    "name": "ipython",
    "version": 3
   },
   "file_extension": ".py",
   "mimetype": "text/x-python",
   "name": "python",
   "nbconvert_exporter": "python",
   "pygments_lexer": "ipython3",
   "version": "3.9.12"
  }
 },
 "nbformat": 4,
 "nbformat_minor": 5
}
